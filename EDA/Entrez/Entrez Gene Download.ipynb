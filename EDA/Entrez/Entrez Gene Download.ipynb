{
 "cells": [
  {
   "cell_type": "markdown",
   "id": "cadb3b58-692b-4603-9a1c-e24007925d97",
   "metadata": {},
   "source": [
    "# Entrez Gene-Related Code\n",
    "I'm not sure where I am going with this. Testing an idea:"
   ]
  },
  {
   "cell_type": "markdown",
   "id": "282d7763-570c-4c3e-813a-a54e450f9ada",
   "metadata": {},
   "source": [
    "## Load useful libraries"
   ]
  },
  {
   "cell_type": "code",
   "execution_count": 10,
   "id": "2c1c6f06-3fbd-4c2e-94ea-fd8be6a25753",
   "metadata": {},
   "outputs": [],
   "source": [
    "from urllib.request import urlretrieve\n",
    "import datetime\n",
    "import pickle\n",
    "\n",
    "import os\n",
    "import glob"
   ]
  },
  {
   "cell_type": "markdown",
   "id": "3a1fd5f0-cd2b-4465-8b9a-4af26d9bbc0c",
   "metadata": {},
   "source": [
    "## Hard-coded user settings\n",
    "\n",
    "We'll move this into a configuration file if this project becomes significant (right now this is \"move-fast-and-break-things quality code\"):"
   ]
  },
  {
   "cell_type": "code",
   "execution_count": 2,
   "id": "75386932-9b77-4a44-bde5-098c3b1055c7",
   "metadata": {},
   "outputs": [],
   "source": [
    "path_wget = '/usr/local/bin/wget'\n",
    "uri_entrez_gene_ftp = 'https://ftp.ncbi.nih.gov/gene/DATA'\n",
    "path_to_download_to = '/Volumes/LaCie/EDA-Data/Entrez'"
   ]
  },
  {
   "cell_type": "code",
   "execution_count": 3,
   "id": "bed6d101-7ed3-4022-9536-e5dd23c1e772",
   "metadata": {},
   "outputs": [],
   "source": [
    "files_to_download_from_Entrez_list = [\n",
    "    'gene2accession.gz',\n",
    "    'gene2ensembl.gz',\n",
    "    'gene2go.gz',\n",
    "    'gene2pubmed.gz',\n",
    "    'gene2refseq.gz',\n",
    "    'gene_group.gz',\n",
    "    'gene_history.gz',\n",
    "    'gene_info.gz',\n",
    "    'gene_neighbors.gz',\n",
    "    'gene_orthologs.gz',\n",
    "    'gene_refseq_uniprotkb_collab.gz',\n",
    "    'stopwords_gene',\n",
    "    'README',\n",
    "]"
   ]
  },
  {
   "cell_type": "markdown",
   "id": "9dd390e7-fff3-47f6-b8f4-8894223e2f0e",
   "metadata": {},
   "source": [
    "## Mark start time"
   ]
  },
  {
   "cell_type": "code",
   "execution_count": 4,
   "id": "5a58e35f-2a04-4dbe-8a46-0a4b54470bdd",
   "metadata": {},
   "outputs": [],
   "source": [
    "timestamps_dict = {'Entrez_start' : datetime.datetime.now()}"
   ]
  },
  {
   "cell_type": "markdown",
   "id": "df20390f-7d99-4ee4-9913-850b4c8e3544",
   "metadata": {},
   "source": [
    "## Download the requested files"
   ]
  },
  {
   "cell_type": "code",
   "execution_count": 5,
   "id": "edbbc855-ac77-459e-af11-d665766b50a5",
   "metadata": {},
   "outputs": [],
   "source": [
    "for filename in files_to_download_from_Entrez_list:\n",
    "    uri_source = uri_entrez_gene_ftp + '/' + filename\n",
    "    urlretrieve(uri_source, path_to_download_to + '/' + filename)"
   ]
  },
  {
   "cell_type": "markdown",
   "id": "8f6f3d28-4969-4380-bc0d-c97fa1cf8a8f",
   "metadata": {},
   "source": [
    "## Mark completion time"
   ]
  },
  {
   "cell_type": "code",
   "execution_count": 6,
   "id": "615d6435-a155-4858-b709-9d56bb5e58a0",
   "metadata": {},
   "outputs": [],
   "source": [
    "timestamps_dict['Entrez_end'] = datetime.datetime.now()"
   ]
  },
  {
   "cell_type": "markdown",
   "id": "4a33da28-1c5e-4e3e-977f-317f458f70c0",
   "metadata": {},
   "source": [
    "## Record timestamps"
   ]
  },
  {
   "cell_type": "code",
   "execution_count": 7,
   "id": "4701a1c9-d4dc-4c02-85d2-06af7b49707f",
   "metadata": {},
   "outputs": [],
   "source": [
    "with open(path_to_download_to + '/download_timestamps.pickled', 'wb') as f:\n",
    "    pickle.dump(timestamps_dict, f)"
   ]
  },
  {
   "cell_type": "markdown",
   "id": "7a64c064-54a1-4121-aa9b-908c2f281baf",
   "metadata": {},
   "source": [
    "## Decompress gzipped files\n",
    "\n",
    "There is probably a more \"Pythonic\" way to do this; the use of the \"os\" module is crude:"
   ]
  },
  {
   "cell_type": "code",
   "execution_count": 13,
   "id": "9da7ce59-2ac9-4356-bbe7-08fd7c43d8af",
   "metadata": {},
   "outputs": [],
   "source": [
    "gzipped_file_list = glob.glob(path_to_download_to + '/*.gz')"
   ]
  },
  {
   "cell_type": "code",
   "execution_count": 15,
   "id": "e8b56dd3-912a-49c1-98c7-74a5026abd0b",
   "metadata": {},
   "outputs": [],
   "source": [
    "for filename in gzipped_file_list:\n",
    "    os.system('gunzip ' + filename)"
   ]
  }
 ],
 "metadata": {
  "kernelspec": {
   "display_name": "Python 3 (ipykernel)",
   "language": "python",
   "name": "python3"
  },
  "language_info": {
   "codemirror_mode": {
    "name": "ipython",
    "version": 3
   },
   "file_extension": ".py",
   "mimetype": "text/x-python",
   "name": "python",
   "nbconvert_exporter": "python",
   "pygments_lexer": "ipython3",
   "version": "3.10.9"
  }
 },
 "nbformat": 4,
 "nbformat_minor": 5
}
