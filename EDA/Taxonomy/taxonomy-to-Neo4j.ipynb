{
 "cells": [
  {
   "cell_type": "markdown",
   "id": "eb4791c0-9199-4f1e-b578-6b178b19b880",
   "metadata": {},
   "source": [
    "## Do something interesting with NCBI's taxonomy data\n",
    "\n",
    "I'm not sure where I'm going with this; maybe I'll create embeddings useful for a future AI or something:"
   ]
  },
  {
   "cell_type": "markdown",
   "id": "f972e28e-89a9-4429-a4f8-3862b7f51afa",
   "metadata": {},
   "source": [
    "## Import useful libraries"
   ]
  },
  {
   "cell_type": "code",
   "execution_count": 17,
   "id": "9a3cf81b-a837-4428-9b6e-ff38607a3d98",
   "metadata": {},
   "outputs": [],
   "source": [
    "import pandas as pd\n",
    "from neo4j import GraphDatabase"
   ]
  },
  {
   "cell_type": "markdown",
   "id": "129010f3-c941-4a83-abdb-4014c41f697b",
   "metadata": {},
   "source": [
    "## User settings"
   ]
  },
  {
   "cell_type": "code",
   "execution_count": 2,
   "id": "f6072ec6-2ada-4aca-9b75-4870a67b42cc",
   "metadata": {},
   "outputs": [],
   "source": [
    "path_nodes = '/Volumes/LaCie/EDA-Data/taxonomy/nodes.dmp'\n",
    "path_names = '/Volumes/LaCie/EDA-Data/taxonomy/names.dmp'\n",
    "\n",
    "URI = 'bolt://localhost:7687'\n",
    "AUTH = ('neo4j', 'aoeuI823')"
   ]
  },
  {
   "cell_type": "markdown",
   "id": "f4f709b2-b3e1-4751-b1b2-02f28ebc3dd1",
   "metadata": {},
   "source": [
    "## Process the taxonomy names file"
   ]
  },
  {
   "cell_type": "code",
   "execution_count": 3,
   "id": "d58d06b8-3af2-4212-8c57-ba33f171086d",
   "metadata": {},
   "outputs": [],
   "source": [
    "df_names = pd.read_csv(path_names, sep = '|', header=None)[[0, 1, 2, 3]]\n",
    "df_names.columns = ['tax_id', 'name_txt', 'unique_name', 'name_class']\n",
    "\n",
    "for column_name in ['name_txt', 'unique_name', 'name_class']:\n",
    "    df_names[column_name] = [x.replace('\\t', '').strip() for x in df_names[column_name]]"
   ]
  },
  {
   "cell_type": "code",
   "execution_count": 4,
   "id": "66b194ff-b5f1-49a3-a960-4c839d14a8e2",
   "metadata": {},
   "outputs": [
    {
     "data": {
      "text/html": [
       "<div>\n",
       "<style scoped>\n",
       "    .dataframe tbody tr th:only-of-type {\n",
       "        vertical-align: middle;\n",
       "    }\n",
       "\n",
       "    .dataframe tbody tr th {\n",
       "        vertical-align: top;\n",
       "    }\n",
       "\n",
       "    .dataframe thead th {\n",
       "        text-align: right;\n",
       "    }\n",
       "</style>\n",
       "<table border=\"1\" class=\"dataframe\">\n",
       "  <thead>\n",
       "    <tr style=\"text-align: right;\">\n",
       "      <th></th>\n",
       "      <th>tax_id</th>\n",
       "      <th>name_txt</th>\n",
       "    </tr>\n",
       "  </thead>\n",
       "  <tbody>\n",
       "    <tr>\n",
       "      <th>1</th>\n",
       "      <td>1</td>\n",
       "      <td>root</td>\n",
       "    </tr>\n",
       "    <tr>\n",
       "      <th>2</th>\n",
       "      <td>2</td>\n",
       "      <td>Bacteria</td>\n",
       "    </tr>\n",
       "    <tr>\n",
       "      <th>12</th>\n",
       "      <td>6</td>\n",
       "      <td>Azorhizobium</td>\n",
       "    </tr>\n",
       "    <tr>\n",
       "      <th>15</th>\n",
       "      <td>7</td>\n",
       "      <td>Azorhizobium caulinodans</td>\n",
       "    </tr>\n",
       "    <tr>\n",
       "      <th>27</th>\n",
       "      <td>9</td>\n",
       "      <td>Buchnera aphidicola</td>\n",
       "    </tr>\n",
       "    <tr>\n",
       "      <th>...</th>\n",
       "      <td>...</td>\n",
       "      <td>...</td>\n",
       "    </tr>\n",
       "    <tr>\n",
       "      <th>4016655</th>\n",
       "      <td>3137766</td>\n",
       "      <td>Vreelandella</td>\n",
       "    </tr>\n",
       "    <tr>\n",
       "      <th>4016657</th>\n",
       "      <td>3137844</td>\n",
       "      <td>Acrophialophora guangdongensis</td>\n",
       "    </tr>\n",
       "    <tr>\n",
       "      <th>4016670</th>\n",
       "      <td>3137845</td>\n",
       "      <td>Acrophialophora minuta</td>\n",
       "    </tr>\n",
       "    <tr>\n",
       "      <th>4016683</th>\n",
       "      <td>3137846</td>\n",
       "      <td>Acrophialophora multiforma</td>\n",
       "    </tr>\n",
       "    <tr>\n",
       "      <th>4016695</th>\n",
       "      <td>3137869</td>\n",
       "      <td>Destinoides conspicuus</td>\n",
       "    </tr>\n",
       "  </tbody>\n",
       "</table>\n",
       "<p>2570970 rows × 2 columns</p>\n",
       "</div>"
      ],
      "text/plain": [
       "          tax_id                        name_txt\n",
       "1              1                            root\n",
       "2              2                        Bacteria\n",
       "12             6                    Azorhizobium\n",
       "15             7        Azorhizobium caulinodans\n",
       "27             9             Buchnera aphidicola\n",
       "...          ...                             ...\n",
       "4016655  3137766                    Vreelandella\n",
       "4016657  3137844  Acrophialophora guangdongensis\n",
       "4016670  3137845          Acrophialophora minuta\n",
       "4016683  3137846      Acrophialophora multiforma\n",
       "4016695  3137869          Destinoides conspicuus\n",
       "\n",
       "[2570970 rows x 2 columns]"
      ]
     },
     "execution_count": 4,
     "metadata": {},
     "output_type": "execute_result"
    }
   ],
   "source": [
    "df_names[df_names['name_class'] == 'scientific name'][['tax_id', 'name_txt']]"
   ]
  },
  {
   "cell_type": "code",
   "execution_count": 5,
   "id": "612215a2-aa0c-42bd-8bc2-62ef81eb2781",
   "metadata": {},
   "outputs": [
    {
     "data": {
      "text/html": [
       "<div>\n",
       "<style scoped>\n",
       "    .dataframe tbody tr th:only-of-type {\n",
       "        vertical-align: middle;\n",
       "    }\n",
       "\n",
       "    .dataframe tbody tr th {\n",
       "        vertical-align: top;\n",
       "    }\n",
       "\n",
       "    .dataframe thead th {\n",
       "        text-align: right;\n",
       "    }\n",
       "</style>\n",
       "<table border=\"1\" class=\"dataframe\">\n",
       "  <thead>\n",
       "    <tr style=\"text-align: right;\">\n",
       "      <th></th>\n",
       "      <th>tax_id</th>\n",
       "      <th>name_txt</th>\n",
       "      <th>unique_name</th>\n",
       "      <th>name_class</th>\n",
       "    </tr>\n",
       "  </thead>\n",
       "  <tbody>\n",
       "    <tr>\n",
       "      <th>41215</th>\n",
       "      <td>9605</td>\n",
       "      <td>Homo Linnaeus, 1758</td>\n",
       "      <td></td>\n",
       "      <td>authority</td>\n",
       "    </tr>\n",
       "    <tr>\n",
       "      <th>41216</th>\n",
       "      <td>9605</td>\n",
       "      <td>Homo</td>\n",
       "      <td></td>\n",
       "      <td>scientific name</td>\n",
       "    </tr>\n",
       "    <tr>\n",
       "      <th>41217</th>\n",
       "      <td>9605</td>\n",
       "      <td>humans</td>\n",
       "      <td></td>\n",
       "      <td>common name</td>\n",
       "    </tr>\n",
       "  </tbody>\n",
       "</table>\n",
       "</div>"
      ],
      "text/plain": [
       "       tax_id             name_txt unique_name       name_class\n",
       "41215    9605  Homo Linnaeus, 1758                    authority\n",
       "41216    9605                 Homo              scientific name\n",
       "41217    9605               humans                  common name"
      ]
     },
     "execution_count": 5,
     "metadata": {},
     "output_type": "execute_result"
    }
   ],
   "source": [
    "df_names[df_names['tax_id'] == 9605]"
   ]
  },
  {
   "cell_type": "markdown",
   "id": "989ca970-af7a-4cea-a5ce-3583f3561eaf",
   "metadata": {},
   "source": [
    "## Process the taxonomy relationships file"
   ]
  },
  {
   "cell_type": "code",
   "execution_count": 6,
   "id": "0fe2eecd-b64d-4d4a-a090-ce05f56ec1d0",
   "metadata": {},
   "outputs": [],
   "source": [
    "df_relation = pd.read_csv(path_nodes, sep = '|', header=None)[[0, 1, 2]]\n",
    "df_relation.columns = ['tax_id', 'parent_tax_id', 'rank']\n",
    "df_relation['rank'] = [x.replace('\\t', '').strip() for x in df_relation['rank']]"
   ]
  },
  {
   "cell_type": "code",
   "execution_count": 7,
   "id": "9b862564-6ca5-4678-a5bf-d47b37c4cae7",
   "metadata": {},
   "outputs": [
    {
     "data": {
      "text/html": [
       "<div>\n",
       "<style scoped>\n",
       "    .dataframe tbody tr th:only-of-type {\n",
       "        vertical-align: middle;\n",
       "    }\n",
       "\n",
       "    .dataframe tbody tr th {\n",
       "        vertical-align: top;\n",
       "    }\n",
       "\n",
       "    .dataframe thead th {\n",
       "        text-align: right;\n",
       "    }\n",
       "</style>\n",
       "<table border=\"1\" class=\"dataframe\">\n",
       "  <thead>\n",
       "    <tr style=\"text-align: right;\">\n",
       "      <th></th>\n",
       "      <th>tax_id</th>\n",
       "      <th>parent_tax_id</th>\n",
       "      <th>rank</th>\n",
       "    </tr>\n",
       "  </thead>\n",
       "  <tbody>\n",
       "    <tr>\n",
       "      <th>0</th>\n",
       "      <td>1</td>\n",
       "      <td>1</td>\n",
       "      <td>no rank</td>\n",
       "    </tr>\n",
       "    <tr>\n",
       "      <th>1</th>\n",
       "      <td>2</td>\n",
       "      <td>131567</td>\n",
       "      <td>superkingdom</td>\n",
       "    </tr>\n",
       "    <tr>\n",
       "      <th>2</th>\n",
       "      <td>6</td>\n",
       "      <td>335928</td>\n",
       "      <td>genus</td>\n",
       "    </tr>\n",
       "    <tr>\n",
       "      <th>3</th>\n",
       "      <td>7</td>\n",
       "      <td>6</td>\n",
       "      <td>species</td>\n",
       "    </tr>\n",
       "    <tr>\n",
       "      <th>4</th>\n",
       "      <td>9</td>\n",
       "      <td>32199</td>\n",
       "      <td>species</td>\n",
       "    </tr>\n",
       "    <tr>\n",
       "      <th>...</th>\n",
       "      <td>...</td>\n",
       "      <td>...</td>\n",
       "      <td>...</td>\n",
       "    </tr>\n",
       "    <tr>\n",
       "      <th>2570965</th>\n",
       "      <td>3137766</td>\n",
       "      <td>28256</td>\n",
       "      <td>genus</td>\n",
       "    </tr>\n",
       "    <tr>\n",
       "      <th>2570966</th>\n",
       "      <td>3137844</td>\n",
       "      <td>389487</td>\n",
       "      <td>species</td>\n",
       "    </tr>\n",
       "    <tr>\n",
       "      <th>2570967</th>\n",
       "      <td>3137845</td>\n",
       "      <td>389487</td>\n",
       "      <td>species</td>\n",
       "    </tr>\n",
       "    <tr>\n",
       "      <th>2570968</th>\n",
       "      <td>3137846</td>\n",
       "      <td>389487</td>\n",
       "      <td>species</td>\n",
       "    </tr>\n",
       "    <tr>\n",
       "      <th>2570969</th>\n",
       "      <td>3137869</td>\n",
       "      <td>2725183</td>\n",
       "      <td>species</td>\n",
       "    </tr>\n",
       "  </tbody>\n",
       "</table>\n",
       "<p>2570970 rows × 3 columns</p>\n",
       "</div>"
      ],
      "text/plain": [
       "          tax_id  parent_tax_id          rank\n",
       "0              1              1       no rank\n",
       "1              2         131567  superkingdom\n",
       "2              6         335928         genus\n",
       "3              7              6       species\n",
       "4              9          32199       species\n",
       "...          ...            ...           ...\n",
       "2570965  3137766          28256         genus\n",
       "2570966  3137844         389487       species\n",
       "2570967  3137845         389487       species\n",
       "2570968  3137846         389487       species\n",
       "2570969  3137869        2725183       species\n",
       "\n",
       "[2570970 rows x 3 columns]"
      ]
     },
     "execution_count": 7,
     "metadata": {},
     "output_type": "execute_result"
    }
   ],
   "source": [
    "df_relation"
   ]
  },
  {
   "cell_type": "code",
   "execution_count": 8,
   "id": "1b60a38b-782e-423f-82f2-0cffac76e21b",
   "metadata": {},
   "outputs": [
    {
     "data": {
      "text/html": [
       "<div>\n",
       "<style scoped>\n",
       "    .dataframe tbody tr th:only-of-type {\n",
       "        vertical-align: middle;\n",
       "    }\n",
       "\n",
       "    .dataframe tbody tr th {\n",
       "        vertical-align: top;\n",
       "    }\n",
       "\n",
       "    .dataframe thead th {\n",
       "        text-align: right;\n",
       "    }\n",
       "</style>\n",
       "<table border=\"1\" class=\"dataframe\">\n",
       "  <thead>\n",
       "    <tr style=\"text-align: right;\">\n",
       "      <th></th>\n",
       "      <th>tax_id</th>\n",
       "      <th>parent_tax_id</th>\n",
       "      <th>rank</th>\n",
       "    </tr>\n",
       "  </thead>\n",
       "  <tbody>\n",
       "    <tr>\n",
       "      <th>7723</th>\n",
       "      <td>9605</td>\n",
       "      <td>207598</td>\n",
       "      <td>genus</td>\n",
       "    </tr>\n",
       "  </tbody>\n",
       "</table>\n",
       "</div>"
      ],
      "text/plain": [
       "      tax_id  parent_tax_id   rank\n",
       "7723    9605         207598  genus"
      ]
     },
     "execution_count": 8,
     "metadata": {},
     "output_type": "execute_result"
    }
   ],
   "source": [
    "df_relation[df_relation['tax_id'] == 9605]"
   ]
  },
  {
   "cell_type": "markdown",
   "id": "854ee660-cfd4-42df-9c3e-cc403c9eec7a",
   "metadata": {},
   "source": [
    "## Merge"
   ]
  },
  {
   "cell_type": "code",
   "execution_count": 9,
   "id": "2cdfdb53-bef4-4dae-a81d-10805fb1fd92",
   "metadata": {},
   "outputs": [],
   "source": [
    "df_taxonomy_nodes = (\n",
    "    pd.merge(\n",
    "        df_names[df_names['name_class'] == 'scientific name'][['tax_id', 'name_txt']],\n",
    "        df_relation[['tax_id', 'rank']],\n",
    "        on = 'tax_id',\n",
    "        how = 'left'\n",
    "    )\n",
    ")"
   ]
  },
  {
   "cell_type": "code",
   "execution_count": 10,
   "id": "466a55ec-adb7-4e46-83f9-9d2378a7e488",
   "metadata": {},
   "outputs": [
    {
     "data": {
      "text/html": [
       "<div>\n",
       "<style scoped>\n",
       "    .dataframe tbody tr th:only-of-type {\n",
       "        vertical-align: middle;\n",
       "    }\n",
       "\n",
       "    .dataframe tbody tr th {\n",
       "        vertical-align: top;\n",
       "    }\n",
       "\n",
       "    .dataframe thead th {\n",
       "        text-align: right;\n",
       "    }\n",
       "</style>\n",
       "<table border=\"1\" class=\"dataframe\">\n",
       "  <thead>\n",
       "    <tr style=\"text-align: right;\">\n",
       "      <th></th>\n",
       "      <th>tax_id</th>\n",
       "      <th>name_txt</th>\n",
       "      <th>rank</th>\n",
       "    </tr>\n",
       "  </thead>\n",
       "  <tbody>\n",
       "    <tr>\n",
       "      <th>7723</th>\n",
       "      <td>9605</td>\n",
       "      <td>Homo</td>\n",
       "      <td>genus</td>\n",
       "    </tr>\n",
       "  </tbody>\n",
       "</table>\n",
       "</div>"
      ],
      "text/plain": [
       "      tax_id name_txt   rank\n",
       "7723    9605     Homo  genus"
      ]
     },
     "execution_count": 10,
     "metadata": {},
     "output_type": "execute_result"
    }
   ],
   "source": [
    "df_taxonomy_nodes[df_taxonomy_nodes['tax_id'] == 9605]"
   ]
  },
  {
   "cell_type": "markdown",
   "id": "6d4707b7-7655-45ac-9b47-39b249244c7f",
   "metadata": {},
   "source": [
    "## Final nodes to load into Neo4j"
   ]
  },
  {
   "cell_type": "code",
   "execution_count": 11,
   "id": "a7c0cb08-90f9-4cae-9c29-9cd4e5492e2d",
   "metadata": {},
   "outputs": [
    {
     "data": {
      "text/html": [
       "<div>\n",
       "<style scoped>\n",
       "    .dataframe tbody tr th:only-of-type {\n",
       "        vertical-align: middle;\n",
       "    }\n",
       "\n",
       "    .dataframe tbody tr th {\n",
       "        vertical-align: top;\n",
       "    }\n",
       "\n",
       "    .dataframe thead th {\n",
       "        text-align: right;\n",
       "    }\n",
       "</style>\n",
       "<table border=\"1\" class=\"dataframe\">\n",
       "  <thead>\n",
       "    <tr style=\"text-align: right;\">\n",
       "      <th></th>\n",
       "      <th>tax_id</th>\n",
       "      <th>name_txt</th>\n",
       "      <th>rank</th>\n",
       "    </tr>\n",
       "  </thead>\n",
       "  <tbody>\n",
       "    <tr>\n",
       "      <th>0</th>\n",
       "      <td>1</td>\n",
       "      <td>root</td>\n",
       "      <td>no rank</td>\n",
       "    </tr>\n",
       "    <tr>\n",
       "      <th>1</th>\n",
       "      <td>2</td>\n",
       "      <td>Bacteria</td>\n",
       "      <td>superkingdom</td>\n",
       "    </tr>\n",
       "    <tr>\n",
       "      <th>2</th>\n",
       "      <td>6</td>\n",
       "      <td>Azorhizobium</td>\n",
       "      <td>genus</td>\n",
       "    </tr>\n",
       "    <tr>\n",
       "      <th>3</th>\n",
       "      <td>7</td>\n",
       "      <td>Azorhizobium caulinodans</td>\n",
       "      <td>species</td>\n",
       "    </tr>\n",
       "    <tr>\n",
       "      <th>4</th>\n",
       "      <td>9</td>\n",
       "      <td>Buchnera aphidicola</td>\n",
       "      <td>species</td>\n",
       "    </tr>\n",
       "    <tr>\n",
       "      <th>...</th>\n",
       "      <td>...</td>\n",
       "      <td>...</td>\n",
       "      <td>...</td>\n",
       "    </tr>\n",
       "    <tr>\n",
       "      <th>2570965</th>\n",
       "      <td>3137766</td>\n",
       "      <td>Vreelandella</td>\n",
       "      <td>genus</td>\n",
       "    </tr>\n",
       "    <tr>\n",
       "      <th>2570966</th>\n",
       "      <td>3137844</td>\n",
       "      <td>Acrophialophora guangdongensis</td>\n",
       "      <td>species</td>\n",
       "    </tr>\n",
       "    <tr>\n",
       "      <th>2570967</th>\n",
       "      <td>3137845</td>\n",
       "      <td>Acrophialophora minuta</td>\n",
       "      <td>species</td>\n",
       "    </tr>\n",
       "    <tr>\n",
       "      <th>2570968</th>\n",
       "      <td>3137846</td>\n",
       "      <td>Acrophialophora multiforma</td>\n",
       "      <td>species</td>\n",
       "    </tr>\n",
       "    <tr>\n",
       "      <th>2570969</th>\n",
       "      <td>3137869</td>\n",
       "      <td>Destinoides conspicuus</td>\n",
       "      <td>species</td>\n",
       "    </tr>\n",
       "  </tbody>\n",
       "</table>\n",
       "<p>2570970 rows × 3 columns</p>\n",
       "</div>"
      ],
      "text/plain": [
       "          tax_id                        name_txt          rank\n",
       "0              1                            root       no rank\n",
       "1              2                        Bacteria  superkingdom\n",
       "2              6                    Azorhizobium         genus\n",
       "3              7        Azorhizobium caulinodans       species\n",
       "4              9             Buchnera aphidicola       species\n",
       "...          ...                             ...           ...\n",
       "2570965  3137766                    Vreelandella         genus\n",
       "2570966  3137844  Acrophialophora guangdongensis       species\n",
       "2570967  3137845          Acrophialophora minuta       species\n",
       "2570968  3137846      Acrophialophora multiforma       species\n",
       "2570969  3137869          Destinoides conspicuus       species\n",
       "\n",
       "[2570970 rows x 3 columns]"
      ]
     },
     "execution_count": 11,
     "metadata": {},
     "output_type": "execute_result"
    }
   ],
   "source": [
    "df_taxonomy_nodes"
   ]
  },
  {
   "cell_type": "markdown",
   "id": "4394e3f3-aa69-4d40-835e-80c8d4e22f11",
   "metadata": {},
   "source": [
    "## Final relationships to load into Neo4j"
   ]
  },
  {
   "cell_type": "code",
   "execution_count": 12,
   "id": "2d598d28-08f9-4041-9dc8-589f250dfb8b",
   "metadata": {},
   "outputs": [],
   "source": [
    "df_final_relationships = df_relation[['tax_id', 'parent_tax_id']].copy()\n",
    "df_final_relationships = df_final_relationships[df_final_relationships['tax_id'] != df_final_relationships['parent_tax_id']]"
   ]
  },
  {
   "cell_type": "code",
   "execution_count": 13,
   "id": "83a73bb3-65c7-4186-b7b3-43eb5ff840a6",
   "metadata": {},
   "outputs": [
    {
     "data": {
      "text/html": [
       "<div>\n",
       "<style scoped>\n",
       "    .dataframe tbody tr th:only-of-type {\n",
       "        vertical-align: middle;\n",
       "    }\n",
       "\n",
       "    .dataframe tbody tr th {\n",
       "        vertical-align: top;\n",
       "    }\n",
       "\n",
       "    .dataframe thead th {\n",
       "        text-align: right;\n",
       "    }\n",
       "</style>\n",
       "<table border=\"1\" class=\"dataframe\">\n",
       "  <thead>\n",
       "    <tr style=\"text-align: right;\">\n",
       "      <th></th>\n",
       "      <th>tax_id</th>\n",
       "      <th>parent_tax_id</th>\n",
       "    </tr>\n",
       "  </thead>\n",
       "  <tbody>\n",
       "    <tr>\n",
       "      <th>1</th>\n",
       "      <td>2</td>\n",
       "      <td>131567</td>\n",
       "    </tr>\n",
       "    <tr>\n",
       "      <th>2</th>\n",
       "      <td>6</td>\n",
       "      <td>335928</td>\n",
       "    </tr>\n",
       "    <tr>\n",
       "      <th>3</th>\n",
       "      <td>7</td>\n",
       "      <td>6</td>\n",
       "    </tr>\n",
       "    <tr>\n",
       "      <th>4</th>\n",
       "      <td>9</td>\n",
       "      <td>32199</td>\n",
       "    </tr>\n",
       "    <tr>\n",
       "      <th>5</th>\n",
       "      <td>10</td>\n",
       "      <td>1706371</td>\n",
       "    </tr>\n",
       "    <tr>\n",
       "      <th>...</th>\n",
       "      <td>...</td>\n",
       "      <td>...</td>\n",
       "    </tr>\n",
       "    <tr>\n",
       "      <th>2570965</th>\n",
       "      <td>3137766</td>\n",
       "      <td>28256</td>\n",
       "    </tr>\n",
       "    <tr>\n",
       "      <th>2570966</th>\n",
       "      <td>3137844</td>\n",
       "      <td>389487</td>\n",
       "    </tr>\n",
       "    <tr>\n",
       "      <th>2570967</th>\n",
       "      <td>3137845</td>\n",
       "      <td>389487</td>\n",
       "    </tr>\n",
       "    <tr>\n",
       "      <th>2570968</th>\n",
       "      <td>3137846</td>\n",
       "      <td>389487</td>\n",
       "    </tr>\n",
       "    <tr>\n",
       "      <th>2570969</th>\n",
       "      <td>3137869</td>\n",
       "      <td>2725183</td>\n",
       "    </tr>\n",
       "  </tbody>\n",
       "</table>\n",
       "<p>2570969 rows × 2 columns</p>\n",
       "</div>"
      ],
      "text/plain": [
       "          tax_id  parent_tax_id\n",
       "1              2         131567\n",
       "2              6         335928\n",
       "3              7              6\n",
       "4              9          32199\n",
       "5             10        1706371\n",
       "...          ...            ...\n",
       "2570965  3137766          28256\n",
       "2570966  3137844         389487\n",
       "2570967  3137845         389487\n",
       "2570968  3137846         389487\n",
       "2570969  3137869        2725183\n",
       "\n",
       "[2570969 rows x 2 columns]"
      ]
     },
     "execution_count": 13,
     "metadata": {},
     "output_type": "execute_result"
    }
   ],
   "source": [
    "df_final_relationships"
   ]
  },
  {
   "cell_type": "code",
   "execution_count": null,
   "id": "1ba78060-f857-4719-9605-610a0f03ff10",
   "metadata": {},
   "outputs": [],
   "source": []
  },
  {
   "cell_type": "markdown",
   "id": "dc521ebd-92c2-40d0-8602-d8b0eb9c9786",
   "metadata": {},
   "source": [
    "## QA"
   ]
  },
  {
   "cell_type": "code",
   "execution_count": 14,
   "id": "f6719be8-15e4-4a6e-98d7-3c8495ce42af",
   "metadata": {},
   "outputs": [],
   "source": [
    "all_ids = list(df_relation['tax_id'])\n",
    "all_ids.extend(list(df_relation['parent_tax_id']))\n",
    "unique_tax_id_list = sorted(list(set(all_ids)))"
   ]
  },
  {
   "cell_type": "code",
   "execution_count": 15,
   "id": "e4f9f38b-c90d-4f33-bf22-d8494ec023c5",
   "metadata": {},
   "outputs": [
    {
     "name": "stdout",
     "output_type": "stream",
     "text": [
      "2570970\n"
     ]
    }
   ],
   "source": [
    "print(len(unique_tax_id_list))"
   ]
  },
  {
   "cell_type": "markdown",
   "id": "cbd9d49b-3be7-4001-b3f4-f112abd4e6a3",
   "metadata": {},
   "source": [
    "## Load into Neo4j"
   ]
  },
  {
   "cell_type": "markdown",
   "id": "24d82b7d-027f-4053-a02b-2658830e1202",
   "metadata": {},
   "source": [
    "#### Nodes\n",
    "\n",
    "Only run this once! I should have used a MERGE statement instead of a CREATE statement."
   ]
  },
  {
   "cell_type": "code",
   "execution_count": null,
   "id": "6762a5be-91c8-4ac9-8c52-8df97ae4aed6",
   "metadata": {},
   "outputs": [],
   "source": [
    "def load_taxonomy_nodes_tx(tx, tax_id, name, rank):\n",
    "    result = tx.run(\n",
    "        \"\"\"CREATE (t:Taxonomy {ncbi_tax_id: $tax_id, name: $name, rank: $rank})\"\"\",\n",
    "        tax_id = tax_id, name = name, rank = rank\n",
    "    )    \n",
    "\n",
    "with GraphDatabase.driver(URI, auth=AUTH) as driver:\n",
    "    with driver.session(database=\"neo4j\") as session:\n",
    "        for i, row in df_final_taxonomy_nodes.iterrows():\n",
    "            session.execute_write(load_taxonomy_nodes_tx, row['tax_id'], row['name_txt'], row['rank'])"
   ]
  },
  {
   "cell_type": "markdown",
   "id": "13688e94-b201-47c3-a1e8-44f53e9ec292",
   "metadata": {},
   "source": [
    "#### Edges"
   ]
  },
  {
   "cell_type": "code",
   "execution_count": null,
   "id": "eed22141-d23e-4a9f-97aa-81b7f4d65110",
   "metadata": {},
   "outputs": [],
   "source": [
    "def load_taxonomy_edges_tx(tx, tax_id, parent_tax_id):\n",
    "    result = tx.run(\"\"\"\n",
    "        MATCH (t:Taxonomy {ncbi_tax_id: $tax_id}), (p:Taxonomy {ncbi_tax_id: $parent_tax_id})\n",
    "        MERGE (t)-[r:HAS_TAXONOMY_PARENT]->(p)\n",
    "        RETURN t.ncbi_tax_id AS ncbi_tax_id, p.ncbi_tax_id AS parent_tax_id\n",
    "        \"\"\",\n",
    "                    tax_id = tax_id,\n",
    "                    parent_tax_id = parent_tax_id,\n",
    "    )\n",
    "    \n",
    "with GraphDatabase.driver(URI, auth=AUTH) as driver:\n",
    "    with driver.session(database=\"neo4j\") as session:\n",
    "        for i, row in df_final_relationships.iterrows():\n",
    "            session.execute_write(load_taxonomy_edges_tx, row['tax_id'], row['parent_tax_id'])"
   ]
  },
  {
   "cell_type": "code",
   "execution_count": null,
   "id": "a8692602-6dd6-4ddb-9fd2-c8a68941ab49",
   "metadata": {},
   "outputs": [],
   "source": []
  }
 ],
 "metadata": {
  "kernelspec": {
   "display_name": "Python 3 (ipykernel)",
   "language": "python",
   "name": "python3"
  },
  "language_info": {
   "codemirror_mode": {
    "name": "ipython",
    "version": 3
   },
   "file_extension": ".py",
   "mimetype": "text/x-python",
   "name": "python",
   "nbconvert_exporter": "python",
   "pygments_lexer": "ipython3",
   "version": "3.10.9"
  }
 },
 "nbformat": 4,
 "nbformat_minor": 5
}
